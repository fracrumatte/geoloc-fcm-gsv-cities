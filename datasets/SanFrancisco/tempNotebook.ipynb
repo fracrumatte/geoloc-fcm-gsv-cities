{
 "cells": [
  {
   "cell_type": "code",
   "execution_count": 1,
   "metadata": {},
   "outputs": [],
   "source": [
    "import numpy as np\n"
   ]
  },
  {
   "cell_type": "code",
   "execution_count": 19,
   "metadata": {},
   "outputs": [],
   "source": [
    "\n",
    "sf_val_path='C:/Users/dalle/Desktop/UNIVERSITA/Magistrale/primo_anno/2trimester/MLDL/GeoLocProject/gsv-fork-project/geoloc-fcm-gsv-cities/datasets/SanFrancisco/sf_val_gt.npy'\n",
    "sf_test_path='C:/Users/dalle/Desktop/UNIVERSITA/Magistrale/primo_anno/2trimester/MLDL/GeoLocProject/gsv-fork-project/geoloc-fcm-gsv-cities/datasets/SanFrancisco/sf_test_gt.npy'\n",
    "sf_test_q_path='C:/Users/dalle/Desktop/UNIVERSITA/Magistrale/primo_anno/2trimester/MLDL/GeoLocProject/gsv-fork-project/geoloc-fcm-gsv-cities/datasets/SanFrancisco/sf_test_qImages.npy'\n",
    "sf_val_q_path='C:/Users/dalle/Desktop/UNIVERSITA/Magistrale/primo_anno/2trimester/MLDL/GeoLocProject/gsv-fork-project/geoloc-fcm-gsv-cities/datasets/SanFrancisco/sf_val_qImages.npy'"
   ]
  },
  {
   "cell_type": "code",
   "execution_count": 25,
   "metadata": {},
   "outputs": [],
   "source": [
    "tokyo_q_path='C:/Users/dalle/Desktop/UNIVERSITA/Magistrale/primo_anno/2trimester/MLDL/GeoLocProject/gsv-fork-project/geoloc-fcm-gsv-cities/datasets/Tokyo/tokyo_test_qImages.npy'\n",
    "tokyo_gt_path='C:/Users/dalle/Desktop/UNIVERSITA/Magistrale/primo_anno/2trimester/MLDL/GeoLocProject/gsv-fork-project/geoloc-fcm-gsv-cities/datasets/Tokyo/tokyo_test_gt.npy'"
   ]
  },
  {
   "cell_type": "code",
   "execution_count": 27,
   "metadata": {},
   "outputs": [
    {
     "data": {
      "text/plain": [
       "315"
      ]
     },
     "execution_count": 27,
     "metadata": {},
     "output_type": "execute_result"
    }
   ],
   "source": [
    "x= np.load(tokyo_gt_path,allow_pickle=True)\n",
    "\n",
    "\n",
    "len(x)"
   ]
  },
  {
   "cell_type": "code",
   "execution_count": 30,
   "metadata": {},
   "outputs": [
    {
     "data": {
      "text/plain": [
       "True"
      ]
     },
     "execution_count": 30,
     "metadata": {},
     "output_type": "execute_result"
    }
   ],
   "source": [
    "ciao='ciao'\n",
    "type(ciao)==type('ciao')"
   ]
  }
 ],
 "metadata": {
  "kernelspec": {
   "display_name": "Python 3",
   "language": "python",
   "name": "python3"
  },
  "language_info": {
   "codemirror_mode": {
    "name": "ipython",
    "version": 3
   },
   "file_extension": ".py",
   "mimetype": "text/x-python",
   "name": "python",
   "nbconvert_exporter": "python",
   "pygments_lexer": "ipython3",
   "version": "3.11.0"
  }
 },
 "nbformat": 4,
 "nbformat_minor": 2
}
