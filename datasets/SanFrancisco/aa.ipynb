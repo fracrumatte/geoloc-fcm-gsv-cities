{
 "cells": [
  {
   "cell_type": "code",
   "execution_count": 4,
   "metadata": {},
   "outputs": [
    {
     "name": "stdout",
     "output_type": "stream",
     "text": [
      "Contenuto di sf_test_dbImages.npy:\n",
      "(27191, 8)\n",
      "[[553425.84 4183038.36 10 ... -122.39319 '0EzULhwJJHa4Ecsr445ujQ'\n",
      "  '@0553425.84@4183038.36@10@S@037.79315@-122.39319@0EzULhwJJHa4Ecsr445ujQ@@316@@@@201311@@']\n",
      " [553426.11 4176747.28 10 ... -122.39365 '8LwMCNwCRfYnAuqoxq1E0g'\n",
      "  '@0553426.11@4176747.28@10@S@037.73645@-122.39365@8LwMCNwCRfYnAuqoxq1E0g@@154@@@@201311@@']\n",
      " [553426.29 4179439.01 10 ... -122.39345 'Dvv59P7ZiVmn1uPBkmKMeA'\n",
      "  '@0553426.29@4179439.01@10@S@037.76071@-122.39345@Dvv59P7ZiVmn1uPBkmKMeA@@264@@@@201311@@']\n",
      " ...\n",
      " [543638.81 4177329.88 10 ... -122.50469 '5l0YW5PyojytS805iVW2sA'\n",
      "  '@0543638.81@4177329.88@10@S@037.74222@-122.50469@5l0YW5PyojytS805iVW2sA@@206@@@@201311@@']\n",
      " [543638.81 4177329.88 10 ... -122.50469 '5l0YW5PyojytS805iVW2sA'\n",
      "  '@0543638.81@4177329.88@10@S@037.74222@-122.50469@5l0YW5PyojytS805iVW2sA@@236@@@@201311@@']\n",
      " [543638.86 4177321.0 10 ... -122.50469 'oWsTYxMg8b0ANj8defTY5g'\n",
      "  '@0543638.86@4177321.00@10@S@037.74214@-122.50469@oWsTYxMg8b0ANj8defTY5g@@236@@@@201311@@']]\n",
      "<class 'float'>\n"
     ]
    }
   ],
   "source": [
    "import numpy as np\n",
    "def load_and_print_npy(file_path):\n",
    "    data = np.load(file_path, allow_pickle=True)\n",
    "    print(f\"Contenuto di {file_path}:\")\n",
    "    print(data.shape)\n",
    "    print(data)\n",
    "    print(type(data[0][0]))\n",
    "\n",
    "\n",
    "load_and_print_npy('sf_test_dbImages.npy')"
   ]
  }
 ],
 "metadata": {
  "kernelspec": {
   "display_name": "Python 3",
   "language": "python",
   "name": "python3"
  },
  "language_info": {
   "codemirror_mode": {
    "name": "ipython",
    "version": 3
   },
   "file_extension": ".py",
   "mimetype": "text/x-python",
   "name": "python",
   "nbconvert_exporter": "python",
   "pygments_lexer": "ipython3",
   "version": "3.12.0"
  }
 },
 "nbformat": 4,
 "nbformat_minor": 2
}
